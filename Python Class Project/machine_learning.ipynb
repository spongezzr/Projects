{
 "cells": [
  {
   "cell_type": "markdown",
   "metadata": {},
   "source": [
    "### With pre-combined twitter data (now we just have files for the 5 stocks instead of all different filtered keywords), this file cleaned data and combine both stock and twitter data for machine learning. SVM with different classifiers is used to train different models and to test which one is better."
   ]
  },
  {
   "cell_type": "code",
   "execution_count": 1,
   "metadata": {},
   "outputs": [],
   "source": [
    "import numpy as np\n",
    "import pandas as pd\n",
    "import sklearn\n",
    "import sklearn.model_selection as cv\n",
    "from sklearn import linear_model\n",
    "from sklearn import svm\n",
    "import csv\n",
    "import json\n",
    "import re \n",
    "import tweepy \n",
    "from tweepy import OAuthHandler \n",
    "from textblob import TextBlob\n",
    "from sklearn.metrics import accuracy_score\n",
    "import matplotlib.pyplot as plt"
   ]
  },
  {
   "cell_type": "code",
   "execution_count": 2,
   "metadata": {},
   "outputs": [],
   "source": [
    "#create list to help store and run all five data-sets\n",
    "\n",
    "stock_names = ['S&P', 'AAPL', 'TSLA', 'CRM',  'NFLX']\n",
    "tweet_files = ['S&P.csv','AAPL.csv', 'TSLA.csv', 'CRM.csv',  'NFLX.csv']"
   ]
  },
  {
   "cell_type": "code",
   "execution_count": 3,
   "metadata": {},
   "outputs": [],
   "source": [
    "#clean twitter data\n",
    "\n",
    "def clean_tweet(tweet): \n",
    "        ''' \n",
    "        Utility function to clean tweet text by removing links, special characters \n",
    "        using simple regex statements. \n",
    "        '''\n",
    "        return ' '.join(re.sub(\"(@[A-Za-z0-9]+)|([^0-9A-Za-z \\t])|(\\w+:\\/\\/\\S+)\", \" \", tweet).split())"
   ]
  },
  {
   "cell_type": "code",
   "execution_count": 4,
   "metadata": {},
   "outputs": [],
   "source": [
    "#use sentiment analysis to figure out the \"positiveness\" of a tweet\n",
    "\n",
    "def get_tweet_sentiment(tweet): \n",
    "        ''' \n",
    "        Utility function to classify sentiment of passed tweet \n",
    "        using textblob's sentiment method \n",
    "        '''\n",
    "        # create TextBlob object of passed tweet text \n",
    "        analysis = TextBlob(clean_tweet(tweet)) \n",
    "        # set sentiment \n",
    "        return analysis.sentiment.polarity"
   ]
  },
  {
   "cell_type": "code",
   "execution_count": 5,
   "metadata": {},
   "outputs": [],
   "source": [
    "#read in just the date and tweets of the data we get from twitter\n",
    "\n",
    "def read_twitter_file(filename):\n",
    "\n",
    "    fields = [] \n",
    "    rows = [] \n",
    "    date= []\n",
    "    text=[]\n",
    "    analysis = []\n",
    "\n",
    "    with open(filename,'r', encoding=\"utf8\") as csvfile: \n",
    "        # creating a csv reader object \n",
    "        csvreader = csv.reader(csvfile) \n",
    "          \n",
    "        # extracting field names through first row \n",
    "        fields = next(csvreader)\n",
    "      \n",
    "        # extracting each data row one by one \n",
    "        for row in csvreader: \n",
    "            s=''.join(row)\n",
    "            data=s.split(\";\")\n",
    "            date.append(data[0])\n",
    "            text.append(data[1])\n",
    "            analysis.append(get_tweet_sentiment(data[1]))\n",
    "            \n",
    "    return pd.DataFrame(list(zip(date, text, analysis)), columns = ['date', 'text', 'analysis'])"
   ]
  },
  {
   "cell_type": "code",
   "execution_count": 6,
   "metadata": {},
   "outputs": [],
   "source": [
    "#simple formatting to group the data using different methods: \n",
    "#we need sum for tweet counts, and mean for analysis rating\n",
    "\n",
    "def f(x):\n",
    "    d = {}\n",
    "    d['text'] = x['text'].count()\n",
    "    d['analysis'] = x['analysis'].mean()\n",
    "    return pd.Series(d, index=['text', 'analysis'])"
   ]
  },
  {
   "cell_type": "code",
   "execution_count": 7,
   "metadata": {},
   "outputs": [],
   "source": [
    "#combine the stock price and tweet information into the same dataframe\n",
    "\n",
    "def clean_and_combine(df_tweet, df_stock):\n",
    "    #clean and drag out tweet data\n",
    "    date_tmp = pd.DataFrame(df_tweet.date.str.split(' ').tolist())\n",
    "    df_tweet = df_tweet.assign(date = date_tmp[0]).groupby('date').apply(f)\n",
    "\n",
    "    #clean and filter stock_price data\n",
    "    stock_date = column_dates\n",
    "    price_diff = [a - b for a, b in zip(list(map(float, df_stock[3])), list(map(float, df_stock[2])))]\n",
    "    df_stock = pd.DataFrame(list(zip(stock_date, price_diff)), columns = ['date', 'price_diff'])\n",
    "    \n",
    "    #combine them together\n",
    "    data = pd.merge(df_stock, df_tweet, how = 'outer', on = 'date').sort_values(by = 'date').dropna()\n",
    "    data = data[['text', 'analysis', 'price_diff']].astype(np.float).values.round(decimals = 2)\n",
    "    np.set_printoptions(suppress=True, formatter={'float_kind':'{:6.3f}'.format})\n",
    "    return data"
   ]
  },
  {
   "cell_type": "code",
   "execution_count": 8,
   "metadata": {},
   "outputs": [],
   "source": [
    "#run machine learning models using svm with floating data points\n",
    "#test the performance of all classifiers and see that for our case, LinearRegression() has the best prediction\n",
    "\n",
    "def ml_model(data):\n",
    "    X = data[:,:-1]  \n",
    "    Y = data[:,-1] \n",
    "    X_train, X_test, Y_train, Y_test = cv.train_test_split(X,Y,test_size=0.05)\n",
    "\n",
    "    classifiers = [\n",
    "        svm.SVR(),\n",
    "        linear_model.BayesianRidge(),\n",
    "        linear_model.LassoLars(),\n",
    "        linear_model.ARDRegression(),\n",
    "        linear_model.PassiveAggressiveRegressor(),\n",
    "        linear_model.TheilSenRegressor(),\n",
    "        linear_model.LinearRegression()]\n",
    "\n",
    "    for item in classifiers:\n",
    "        print(item)\n",
    "        clf = item        \n",
    "        clf.fit(X_train, Y_train)\n",
    "        predict = clf.predict(X_test)\n",
    "        print(predict, '\\n', Y_test, '\\n')\n",
    "        \n",
    "    pass"
   ]
  },
  {
   "cell_type": "code",
   "execution_count": 9,
   "metadata": {},
   "outputs": [],
   "source": [
    "#as we figured that linear regression is the best approach, we can take a deeper look at the regressive analysis \n",
    "#of all different data sets\n",
    "#the colorbar shows the correlations in between our three dimensions\n",
    "\n",
    "def lm_plotColorbar(data):\n",
    "    fig, ax = plt.subplots()\n",
    "    scat = ax.scatter(data[:,0], data[:,1], c=data[:,2], s=200, marker='o')\n",
    "    fig.colorbar(scat)\n",
    "    plt.show()\n",
    "    pass"
   ]
  },
  {
   "cell_type": "code",
   "execution_count": 10,
   "metadata": {},
   "outputs": [],
   "source": [
    "#here's just a summary of our \n",
    "\n",
    "import statsmodels.api as sm\n",
    "\n",
    "def lm_sum(data):\n",
    "    X = data[:,0:2]\n",
    "    y = data[:,2]\n",
    "    model = sm.OLS(y, X).fit()\n",
    "    predictions = model.predict(X)\n",
    "    print(model.summary())\n",
    "    pass"
   ]
  },
  {
   "cell_type": "code",
   "execution_count": 11,
   "metadata": {},
   "outputs": [],
   "source": [
    "#read stock price\n",
    "\n",
    "df_stock_price = pd.read_json('stock data.txt')\n",
    "\n",
    "#create a column list to help match stock and twitter data\n",
    "#as stocks only contains data for weekdays and non-holidays\n",
    "\n",
    "column_dates = ['2018-09-13', '2018-09-12', '2018-09-11', '2018-09-10', '2018-09-07', '2018-09-06', '2018-09-05',\n",
    "                '2018-09-04', '2018-08-31', '2018-08-30', '2018-08-29', '2018-08-28', '2018-08-27', '2018-08-24',\n",
    "                '2018-08-23', '2018-08-22', '2018-08-21', '2018-08-20', '2018-08-17', '2018-08-16', '2018-08-15',\n",
    "                '2018-08-14', '2018-08-13']"
   ]
  },
  {
   "cell_type": "code",
   "execution_count": 12,
   "metadata": {},
   "outputs": [],
   "source": [
    "#get all twitter data\n",
    "\n",
    "twitter_data = []\n",
    "for i in range(0, len(tweet_files)):\n",
    "    df = read_twitter_file(tweet_files[i])\n",
    "    twitter_data.append(df)"
   ]
  },
  {
   "cell_type": "code",
   "execution_count": 13,
   "metadata": {},
   "outputs": [
    {
     "name": "stdout",
     "output_type": "stream",
     "text": [
      "This is ml result for  S&P \n",
      "\n",
      "SVR(C=1.0, cache_size=200, coef0=0.0, degree=3, epsilon=0.1, gamma='auto',\n",
      "  kernel='rbf', max_iter=-1, shrinking=True, tol=0.001, verbose=False)\n",
      "[ 0.249  0.376] \n",
      " [ 1.230 -0.990] \n",
      "\n",
      "BayesianRidge(alpha_1=1e-06, alpha_2=1e-06, compute_score=False, copy_X=True,\n",
      "       fit_intercept=True, lambda_1=1e-06, lambda_2=1e-06, n_iter=300,\n",
      "       normalize=False, tol=0.001, verbose=False)\n",
      "[ 0.307  0.290] \n",
      " [ 1.230 -0.990] \n",
      "\n",
      "LassoLars(alpha=1.0, copy_X=True, eps=2.220446049250313e-16,\n",
      "     fit_intercept=True, fit_path=True, max_iter=500, normalize=True,\n",
      "     positive=False, precompute='auto', verbose=False)\n",
      "[ 0.296  0.296] \n",
      " [ 1.230 -0.990] \n",
      "\n",
      "ARDRegression(alpha_1=1e-06, alpha_2=1e-06, compute_score=False, copy_X=True,\n",
      "       fit_intercept=True, lambda_1=1e-06, lambda_2=1e-06, n_iter=300,\n",
      "       normalize=False, threshold_lambda=10000.0, tol=0.001, verbose=False)\n",
      "[ 0.296  0.296] \n",
      " [ 1.230 -0.990] \n",
      "\n",
      "PassiveAggressiveRegressor(C=1.0, average=False, epsilon=0.1,\n",
      "              fit_intercept=True, loss='epsilon_insensitive',\n",
      "              max_iter=None, n_iter=None, random_state=None, shuffle=True,\n",
      "              tol=None, verbose=0, warm_start=False)\n",
      "[-0.000 -0.006] \n",
      " [ 1.230 -0.990] \n",
      "\n",
      "TheilSenRegressor(copy_X=True, fit_intercept=True, max_iter=300,\n",
      "         max_subpopulation=10000, n_jobs=1, n_subsamples=None,\n",
      "         random_state=None, tol=0.001, verbose=False)\n",
      "[-0.283  0.220] \n",
      " [ 1.230 -0.990] \n",
      "\n",
      "LinearRegression(copy_X=True, fit_intercept=True, n_jobs=1, normalize=False)\n",
      "[ 0.287  0.264] \n",
      " [ 1.230 -0.990] \n",
      "\n"
     ]
    },
    {
     "name": "stderr",
     "output_type": "stream",
     "text": [
      "/anaconda3/lib/python3.6/site-packages/sklearn/linear_model/stochastic_gradient.py:128: FutureWarning: max_iter and tol parameters have been added in <class 'sklearn.linear_model.passive_aggressive.PassiveAggressiveRegressor'> in 0.19. If both are left unset, they default to max_iter=5 and tol=None. If tol is not None, max_iter defaults to max_iter=1000. From 0.21, default max_iter will be 1000, and default tol will be 1e-3.\n",
      "  \"and default tol will be 1e-3.\" % type(self), FutureWarning)\n"
     ]
    },
    {
     "data": {
      "image/png": "[encoded data removed]",
      "text/plain": [
       "<Figure size 432x288 with 2 Axes>"
      ]
     },
     "metadata": {},
     "output_type": "display_data"
    },
    {
     "name": "stdout",
     "output_type": "stream",
     "text": [
      "This is ml result for  AAPL \n",
      "\n",
      "SVR(C=1.0, cache_size=200, coef0=0.0, degree=3, epsilon=0.1, gamma='auto',\n",
      "  kernel='rbf', max_iter=-1, shrinking=True, tol=0.001, verbose=False)\n",
      "[ 0.241  0.241] \n",
      " [ 5.840  0.690] \n",
      "\n",
      "BayesianRidge(alpha_1=1e-06, alpha_2=1e-06, compute_score=False, copy_X=True,\n",
      "       fit_intercept=True, lambda_1=1e-06, lambda_2=1e-06, n_iter=300,\n",
      "       normalize=False, tol=0.001, verbose=False)\n",
      "[ 0.194  0.177] \n",
      " [ 5.840  0.690] \n",
      "\n",
      "LassoLars(alpha=1.0, copy_X=True, eps=2.220446049250313e-16,\n",
      "     fit_intercept=True, fit_path=True, max_iter=500, normalize=True,\n",
      "     positive=False, precompute='auto', verbose=False)\n",
      "[ 0.017  0.017] \n",
      " [ 5.840  0.690] \n",
      "\n",
      "ARDRegression(alpha_1=1e-06, alpha_2=1e-06, compute_score=False, copy_X=True,\n",
      "       fit_intercept=True, lambda_1=1e-06, lambda_2=1e-06, n_iter=300,\n",
      "       normalize=False, threshold_lambda=10000.0, tol=0.001, verbose=False)\n",
      "[ 0.017  0.017] \n",
      " [ 5.840  0.690] \n",
      "\n",
      "PassiveAggressiveRegressor(C=1.0, average=False, epsilon=0.1,\n",
      "              fit_intercept=True, loss='epsilon_insensitive',\n",
      "              max_iter=None, n_iter=None, random_state=None, shuffle=True,\n",
      "              tol=None, verbose=0, warm_start=False)\n",
      "[-2.087 -2.362] \n",
      " [ 5.840  0.690] \n",
      "\n",
      "TheilSenRegressor(copy_X=True, fit_intercept=True, max_iter=300,\n",
      "         max_subpopulation=10000, n_jobs=1, n_subsamples=None,\n",
      "         random_state=None, tol=0.001, verbose=False)\n",
      "[ 0.321  0.328] \n",
      " [ 5.840  0.690] \n",
      "\n",
      "LinearRegression(copy_X=True, fit_intercept=True, n_jobs=1, normalize=False)\n",
      "[ 0.516  0.354] \n",
      " [ 5.840  0.690] \n",
      "\n"
     ]
    },
    {
     "name": "stderr",
     "output_type": "stream",
     "text": [
      "/anaconda3/lib/python3.6/site-packages/sklearn/linear_model/stochastic_gradient.py:128: FutureWarning: max_iter and tol parameters have been added in <class 'sklearn.linear_model.passive_aggressive.PassiveAggressiveRegressor'> in 0.19. If both are left unset, they default to max_iter=5 and tol=None. If tol is not None, max_iter defaults to max_iter=1000. From 0.21, default max_iter will be 1000, and default tol will be 1e-3.\n",
      "  \"and default tol will be 1e-3.\" % type(self), FutureWarning)\n"
     ]
    },
    {
     "data": {
      "image/png": "[encoded data removed]",
      "text/plain": [
       "<Figure size 432x288 with 2 Axes>"
      ]
     },
     "metadata": {},
     "output_type": "display_data"
    },
    {
     "name": "stdout",
     "output_type": "stream",
     "text": [
      "This is ml result for  TSLA \n",
      "\n",
      "SVR(C=1.0, cache_size=200, coef0=0.0, degree=3, epsilon=0.1, gamma='auto',\n",
      "  kernel='rbf', max_iter=-1, shrinking=True, tol=0.001, verbose=False)\n",
      "[-0.192] \n",
      " [-6.550] \n",
      "\n",
      "BayesianRidge(alpha_1=1e-06, alpha_2=1e-06, compute_score=False, copy_X=True,\n",
      "       fit_intercept=True, lambda_1=1e-06, lambda_2=1e-06, n_iter=300,\n",
      "       normalize=False, tol=0.001, verbose=False)\n",
      "[-2.291] \n",
      " [-6.550] \n",
      "\n",
      "LassoLars(alpha=1.0, copy_X=True, eps=2.220446049250313e-16,\n",
      "     fit_intercept=True, fit_path=True, max_iter=500, normalize=True,\n",
      "     positive=False, precompute='auto', verbose=False)\n",
      "[-0.565] \n",
      " [-6.550] \n",
      "\n",
      "ARDRegression(alpha_1=1e-06, alpha_2=1e-06, compute_score=False, copy_X=True,\n",
      "       fit_intercept=True, lambda_1=1e-06, lambda_2=1e-06, n_iter=300,\n",
      "       normalize=False, threshold_lambda=10000.0, tol=0.001, verbose=False)\n",
      "[-0.565] \n",
      " [-6.550] \n",
      "\n",
      "PassiveAggressiveRegressor(C=1.0, average=False, epsilon=0.1,\n",
      "              fit_intercept=True, loss='epsilon_insensitive',\n",
      "              max_iter=None, n_iter=None, random_state=None, shuffle=True,\n",
      "              tol=None, verbose=0, warm_start=False)\n",
      "[ 0.655] \n",
      " [-6.550] \n",
      "\n",
      "TheilSenRegressor(copy_X=True, fit_intercept=True, max_iter=300,\n",
      "         max_subpopulation=10000, n_jobs=1, n_subsamples=None,\n",
      "         random_state=None, tol=0.001, verbose=False)\n",
      "[-1.921] \n",
      " [-6.550] \n",
      "\n",
      "LinearRegression(copy_X=True, fit_intercept=True, n_jobs=1, normalize=False)\n",
      "[-2.359] \n",
      " [-6.550] \n",
      "\n"
     ]
    },
    {
     "name": "stderr",
     "output_type": "stream",
     "text": [
      "/anaconda3/lib/python3.6/site-packages/sklearn/linear_model/stochastic_gradient.py:128: FutureWarning: max_iter and tol parameters have been added in <class 'sklearn.linear_model.passive_aggressive.PassiveAggressiveRegressor'> in 0.19. If both are left unset, they default to max_iter=5 and tol=None. If tol is not None, max_iter defaults to max_iter=1000. From 0.21, default max_iter will be 1000, and default tol will be 1e-3.\n",
      "  \"and default tol will be 1e-3.\" % type(self), FutureWarning)\n"
     ]
    },
    {
     "data": {
      "image/png": "[encoded data removed]",
      "text/plain": [
       "<Figure size 432x288 with 2 Axes>"
      ]
     },
     "metadata": {},
     "output_type": "display_data"
    },
    {
     "name": "stdout",
     "output_type": "stream",
     "text": [
      "This is ml result for  CRM \n",
      "\n",
      "SVR(C=1.0, cache_size=200, coef0=0.0, degree=3, epsilon=0.1, gamma='auto',\n",
      "  kernel='rbf', max_iter=-1, shrinking=True, tol=0.001, verbose=False)\n",
      "[ 0.644  0.644] \n",
      " [ 2.590  1.320] \n",
      "\n",
      "BayesianRidge(alpha_1=1e-06, alpha_2=1e-06, compute_score=False, copy_X=True,\n",
      "       fit_intercept=True, lambda_1=1e-06, lambda_2=1e-06, n_iter=300,\n",
      "       normalize=False, tol=0.001, verbose=False)\n",
      "[ 0.362  0.336] \n",
      " [ 2.590  1.320] \n",
      "\n",
      "LassoLars(alpha=1.0, copy_X=True, eps=2.220446049250313e-16,\n",
      "     fit_intercept=True, fit_path=True, max_iter=500, normalize=True,\n",
      "     positive=False, precompute='auto', verbose=False)\n",
      "[ 0.419  0.419] \n",
      " [ 2.590  1.320] \n",
      "\n",
      "ARDRegression(alpha_1=1e-06, alpha_2=1e-06, compute_score=False, copy_X=True,\n",
      "       fit_intercept=True, lambda_1=1e-06, lambda_2=1e-06, n_iter=300,\n",
      "       normalize=False, threshold_lambda=10000.0, tol=0.001, verbose=False)\n",
      "[ 0.419  0.419] \n",
      " [ 2.590  1.320] \n",
      "\n",
      "PassiveAggressiveRegressor(C=1.0, average=False, epsilon=0.1,\n",
      "              fit_intercept=True, loss='epsilon_insensitive',\n",
      "              max_iter=None, n_iter=None, random_state=None, shuffle=True,\n",
      "              tol=None, verbose=0, warm_start=False)\n",
      "[-3.572 -3.469] \n",
      " [ 2.590  1.320] \n",
      "\n",
      "TheilSenRegressor(copy_X=True, fit_intercept=True, max_iter=300,\n",
      "         max_subpopulation=10000, n_jobs=1, n_subsamples=None,\n",
      "         random_state=None, tol=0.001, verbose=False)\n",
      "[ 0.003 -0.033] \n",
      " [ 2.590  1.320] \n",
      "\n",
      "LinearRegression(copy_X=True, fit_intercept=True, n_jobs=1, normalize=False)\n",
      "[ 0.129  0.585] \n",
      " [ 2.590  1.320] \n",
      "\n"
     ]
    },
    {
     "name": "stderr",
     "output_type": "stream",
     "text": [
      "/anaconda3/lib/python3.6/site-packages/sklearn/linear_model/stochastic_gradient.py:128: FutureWarning: max_iter and tol parameters have been added in <class 'sklearn.linear_model.passive_aggressive.PassiveAggressiveRegressor'> in 0.19. If both are left unset, they default to max_iter=5 and tol=None. If tol is not None, max_iter defaults to max_iter=1000. From 0.21, default max_iter will be 1000, and default tol will be 1e-3.\n",
      "  \"and default tol will be 1e-3.\" % type(self), FutureWarning)\n"
     ]
    },
    {
     "data": {
      "image/png": "[encoded data removed]",
      "text/plain": [
       "<Figure size 432x288 with 2 Axes>"
      ]
     },
     "metadata": {},
     "output_type": "display_data"
    },
    {
     "name": "stdout",
     "output_type": "stream",
     "text": [
      "This is ml result for  NFLX \n",
      "\n",
      "SVR(C=1.0, cache_size=200, coef0=0.0, degree=3, epsilon=0.1, gamma='auto',\n",
      "  kernel='rbf', max_iter=-1, shrinking=True, tol=0.001, verbose=False)\n",
      "[-1.560 -1.560] \n",
      " [-3.860  5.950] \n",
      "\n",
      "BayesianRidge(alpha_1=1e-06, alpha_2=1e-06, compute_score=False, copy_X=True,\n",
      "       fit_intercept=True, lambda_1=1e-06, lambda_2=1e-06, n_iter=300,\n",
      "       normalize=False, tol=0.001, verbose=False)\n",
      "[ 0.238  0.266] \n",
      " [-3.860  5.950] \n",
      "\n",
      "LassoLars(alpha=1.0, copy_X=True, eps=2.220446049250313e-16,\n",
      "     fit_intercept=True, fit_path=True, max_iter=500, normalize=True,\n",
      "     positive=False, precompute='auto', verbose=False)\n",
      "[ 0.339  0.339] \n",
      " [-3.860  5.950] \n",
      "\n",
      "ARDRegression(alpha_1=1e-06, alpha_2=1e-06, compute_score=False, copy_X=True,\n",
      "       fit_intercept=True, lambda_1=1e-06, lambda_2=1e-06, n_iter=300,\n",
      "       normalize=False, threshold_lambda=10000.0, tol=0.001, verbose=False)\n",
      "[ 2.563  1.617] \n",
      " [-3.860  5.950] \n",
      "\n",
      "PassiveAggressiveRegressor(C=1.0, average=False, epsilon=0.1,\n",
      "              fit_intercept=True, loss='epsilon_insensitive',\n",
      "              max_iter=None, n_iter=None, random_state=None, shuffle=True,\n",
      "              tol=None, verbose=0, warm_start=False)\n",
      "[ 2.452  3.841] \n",
      " [-3.860  5.950] \n",
      "\n",
      "TheilSenRegressor(copy_X=True, fit_intercept=True, max_iter=300,\n",
      "         max_subpopulation=10000, n_jobs=1, n_subsamples=None,\n",
      "         random_state=None, tol=0.001, verbose=False)\n",
      "[ 5.800  3.948] \n",
      " [-3.860  5.950] \n",
      "\n",
      "LinearRegression(copy_X=True, fit_intercept=True, n_jobs=1, normalize=False)\n",
      "[ 2.068  1.133] \n",
      " [-3.860  5.950] \n",
      "\n"
     ]
    },
    {
     "name": "stderr",
     "output_type": "stream",
     "text": [
      "/anaconda3/lib/python3.6/site-packages/sklearn/linear_model/stochastic_gradient.py:128: FutureWarning: max_iter and tol parameters have been added in <class 'sklearn.linear_model.passive_aggressive.PassiveAggressiveRegressor'> in 0.19. If both are left unset, they default to max_iter=5 and tol=None. If tol is not None, max_iter defaults to max_iter=1000. From 0.21, default max_iter will be 1000, and default tol will be 1e-3.\n",
      "  \"and default tol will be 1e-3.\" % type(self), FutureWarning)\n"
     ]
    },
    {
     "data": {
      "image/png": "[encoded data removed]",
      "text/plain": [
       "<Figure size 432x288 with 2 Axes>"
      ]
     },
     "metadata": {},
     "output_type": "display_data"
    }
   ],
   "source": [
    "#main: clean all data and train and see the results\n",
    "\n",
    "for i in range(0, len(tweet_files)):\n",
    "    data = clean_and_combine(twitter_data[i], df_stock_price[stock_names[i]])\n",
    "    print('This is ml result for ', stock_names[i], '\\n')\n",
    "    ml_model(data)\n",
    "    lm_plotColorbar(data)"
   ]
  },
  {
   "cell_type": "markdown",
   "metadata": {},
   "source": [
    "### Conclusion"
   ]
  },
  {
   "cell_type": "markdown",
   "metadata": {},
   "source": [
    "#### Some comments on Machine Learning model:\n",
    "\n",
    "#### For user case, we will allow user to input a stock, and with the scrapping method came in the correspondant twitter data and stock data (In reality we will have more data than right now, as we are trying to diminish processing time now for this project). \n",
    "\n",
    "#### With all the data, we will implement the very same method shown above to clean, and predict stock price for the next day. "
   ]
  }
 ],
 "metadata": {
  "kernelspec": {
   "display_name": "Python 3",
   "language": "python",
   "name": "python3"
  },
  "language_info": {
   "codemirror_mode": {
    "name": "ipython",
    "version": 3
   },
   "file_extension": ".py",
   "mimetype": "text/x-python",
   "name": "python",
   "nbconvert_exporter": "python",
   "pygments_lexer": "ipython3",
   "version": "3.6.5"
  }
 },
 "nbformat": 4,
 "nbformat_minor": 2
}
